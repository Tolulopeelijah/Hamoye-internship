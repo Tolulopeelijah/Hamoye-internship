{
 "cells": [
  {
   "cell_type": "code",
   "execution_count": 1,
   "id": "d96327d6",
   "metadata": {},
   "outputs": [],
   "source": [
    "import pandas as pd"
   ]
  },
  {
   "cell_type": "code",
   "execution_count": 2,
   "id": "d4a1d140",
   "metadata": {},
   "outputs": [],
   "source": [
    "df = pd.read_csv('FoodBalanceSheets_E_Africa_NOFLAG.csv', encoding = 'latin-1')"
   ]
  },
  {
   "cell_type": "code",
   "execution_count": 3,
   "id": "8c5efcc6",
   "metadata": {},
   "outputs": [
    {
     "data": {
      "text/html": [
       "<div>\n",
       "<style scoped>\n",
       "    .dataframe tbody tr th:only-of-type {\n",
       "        vertical-align: middle;\n",
       "    }\n",
       "\n",
       "    .dataframe tbody tr th {\n",
       "        vertical-align: top;\n",
       "    }\n",
       "\n",
       "    .dataframe thead th {\n",
       "        text-align: right;\n",
       "    }\n",
       "</style>\n",
       "<table border=\"1\" class=\"dataframe\">\n",
       "  <thead>\n",
       "    <tr style=\"text-align: right;\">\n",
       "      <th></th>\n",
       "      <th>Area Code</th>\n",
       "      <th>Area</th>\n",
       "      <th>Item Code</th>\n",
       "      <th>Item</th>\n",
       "      <th>Element Code</th>\n",
       "      <th>Element</th>\n",
       "      <th>Unit</th>\n",
       "      <th>Y2014</th>\n",
       "      <th>Y2015</th>\n",
       "      <th>Y2016</th>\n",
       "      <th>Y2017</th>\n",
       "      <th>Y2018</th>\n",
       "    </tr>\n",
       "  </thead>\n",
       "  <tbody>\n",
       "    <tr>\n",
       "      <th>0</th>\n",
       "      <td>4</td>\n",
       "      <td>Algeria</td>\n",
       "      <td>2501</td>\n",
       "      <td>Population</td>\n",
       "      <td>511</td>\n",
       "      <td>Total Population - Both sexes</td>\n",
       "      <td>1000 persons</td>\n",
       "      <td>38924.00</td>\n",
       "      <td>39728.00</td>\n",
       "      <td>40551.00</td>\n",
       "      <td>41389.00</td>\n",
       "      <td>42228.00</td>\n",
       "    </tr>\n",
       "    <tr>\n",
       "      <th>1</th>\n",
       "      <td>4</td>\n",
       "      <td>Algeria</td>\n",
       "      <td>2501</td>\n",
       "      <td>Population</td>\n",
       "      <td>5301</td>\n",
       "      <td>Domestic supply quantity</td>\n",
       "      <td>1000 tonnes</td>\n",
       "      <td>0.00</td>\n",
       "      <td>0.00</td>\n",
       "      <td>0.00</td>\n",
       "      <td>0.00</td>\n",
       "      <td>0.00</td>\n",
       "    </tr>\n",
       "    <tr>\n",
       "      <th>2</th>\n",
       "      <td>4</td>\n",
       "      <td>Algeria</td>\n",
       "      <td>2901</td>\n",
       "      <td>Grand Total</td>\n",
       "      <td>664</td>\n",
       "      <td>Food supply (kcal/capita/day)</td>\n",
       "      <td>kcal/capita/day</td>\n",
       "      <td>3377.00</td>\n",
       "      <td>3379.00</td>\n",
       "      <td>3372.00</td>\n",
       "      <td>3341.00</td>\n",
       "      <td>3322.00</td>\n",
       "    </tr>\n",
       "    <tr>\n",
       "      <th>3</th>\n",
       "      <td>4</td>\n",
       "      <td>Algeria</td>\n",
       "      <td>2901</td>\n",
       "      <td>Grand Total</td>\n",
       "      <td>674</td>\n",
       "      <td>Protein supply quantity (g/capita/day)</td>\n",
       "      <td>g/capita/day</td>\n",
       "      <td>94.90</td>\n",
       "      <td>94.35</td>\n",
       "      <td>94.72</td>\n",
       "      <td>92.82</td>\n",
       "      <td>91.83</td>\n",
       "    </tr>\n",
       "    <tr>\n",
       "      <th>4</th>\n",
       "      <td>4</td>\n",
       "      <td>Algeria</td>\n",
       "      <td>2901</td>\n",
       "      <td>Grand Total</td>\n",
       "      <td>684</td>\n",
       "      <td>Fat supply quantity (g/capita/day)</td>\n",
       "      <td>g/capita/day</td>\n",
       "      <td>80.06</td>\n",
       "      <td>79.36</td>\n",
       "      <td>77.40</td>\n",
       "      <td>80.19</td>\n",
       "      <td>77.28</td>\n",
       "    </tr>\n",
       "  </tbody>\n",
       "</table>\n",
       "</div>"
      ],
      "text/plain": [
       "   Area Code     Area  Item Code         Item  Element Code  \\\n",
       "0          4  Algeria       2501   Population           511   \n",
       "1          4  Algeria       2501   Population          5301   \n",
       "2          4  Algeria       2901  Grand Total           664   \n",
       "3          4  Algeria       2901  Grand Total           674   \n",
       "4          4  Algeria       2901  Grand Total           684   \n",
       "\n",
       "                                  Element             Unit     Y2014  \\\n",
       "0           Total Population - Both sexes     1000 persons  38924.00   \n",
       "1                Domestic supply quantity      1000 tonnes      0.00   \n",
       "2           Food supply (kcal/capita/day)  kcal/capita/day   3377.00   \n",
       "3  Protein supply quantity (g/capita/day)     g/capita/day     94.90   \n",
       "4      Fat supply quantity (g/capita/day)     g/capita/day     80.06   \n",
       "\n",
       "      Y2015     Y2016     Y2017     Y2018  \n",
       "0  39728.00  40551.00  41389.00  42228.00  \n",
       "1      0.00      0.00      0.00      0.00  \n",
       "2   3379.00   3372.00   3341.00   3322.00  \n",
       "3     94.35     94.72     92.82     91.83  \n",
       "4     79.36     77.40     80.19     77.28  "
      ]
     },
     "execution_count": 3,
     "metadata": {},
     "output_type": "execute_result"
    }
   ],
   "source": [
    "df.head()"
   ]
  },
  {
   "cell_type": "code",
   "execution_count": 9,
   "id": "cd0120be",
   "metadata": {},
   "outputs": [
    {
     "name": "stdout",
     "output_type": "stream",
     "text": [
      "1589\n",
      "2.6073544131401474\n"
     ]
    }
   ],
   "source": [
    "null_num = df['Y2014'].isnull().sum()\n",
    "total_num = df.shape[0]\n",
    "percentage = null_num /total_num * 100\n",
    "print(null_num)\n",
    "print(percentage)"
   ]
  },
  {
   "cell_type": "code",
   "execution_count": 19,
   "id": "fb441c25",
   "metadata": {},
   "outputs": [
    {
     "name": "stdout",
     "output_type": "stream",
     "text": [
      "Y2015    4251.81\n",
      "Y2018    4039.32\n",
      "Name: Wine, dtype: float64\n"
     ]
    }
   ],
   "source": [
    "item_df = df[['Item', 'Y2015', 'Y2018']].groupby('Item').sum()\n",
    "print(item_df.loc['Wine'])"
   ]
  },
  {
   "cell_type": "code",
   "execution_count": 55,
   "id": "646a028c",
   "metadata": {},
   "outputs": [
    {
     "name": "stdout",
     "output_type": "stream",
     "text": [
      "Y2018    20577.91\n",
      "Y2016    33140.12\n",
      "Y2015    34910.99\n",
      "Y2017    54316.91\n",
      "Y2014    58749.83\n",
      "Name: Stock Variation, dtype: float64\n"
     ]
    }
   ],
   "source": [
    "print(df[['Element', 'Y2014', 'Y2015', \n",
    "    'Y2016', 'Y2017', 'Y2018']].groupby('Element').sum().loc['Stock Variation'].sort_values())"
   ]
  },
  {
   "cell_type": "code",
   "execution_count": 61,
   "id": "71c5ec42",
   "metadata": {},
   "outputs": [
    {
     "name": "stdout",
     "output_type": "stream",
     "text": [
      "Y2016           0.023444\n",
      "Y2015           0.023889\n",
      "Y2017           0.024254\n",
      "Y2018           0.024279\n",
      "Y2014           0.024457\n",
      "Element Code    1.000000\n",
      "Name: Element Code, dtype: float64\n"
     ]
    }
   ],
   "source": [
    "print(df[['Element Code', 'Y2014', 'Y2015', \n",
    "    'Y2016', 'Y2017', 'Y2018']].corr()['Element Code'].sort_values())"
   ]
  },
  {
   "cell_type": "code",
   "execution_count": 68,
   "id": "1dd1d617",
   "metadata": {},
   "outputs": [
    {
     "name": "stdout",
     "output_type": "stream",
     "text": [
      "                                  Y2017\n",
      "Area                                   \n",
      "Sudan (former)                     0.00\n",
      "Ethiopia PDR                       0.00\n",
      "Comoros                           59.84\n",
      "Seychelles                       442.34\n",
      "Sao Tome and Principe          12662.63\n",
      "Cabo Verde                     14650.74\n",
      "Guinea-Bissau                  19102.77\n",
      "Lesotho                        21267.96\n",
      "Botswana                       22101.30\n",
      "Djibouti                       22729.91\n",
      "Gambia                         23154.18\n",
      "Gabon                          27979.64\n",
      "Liberia                        29342.20\n",
      "Namibia                        29874.89\n",
      "Central African Republic       29937.00\n",
      "Congo                          41181.68\n",
      "Togo                           49841.88\n",
      "Mauritius                      51114.83\n",
      "Eswatini                       54343.33\n",
      "Sierra Leone                   55311.33\n",
      "Chad                           71594.68\n",
      "Rwanda                         73663.69\n",
      "Zimbabwe                       75919.34\n",
      "Senegal                        95681.15\n",
      "Guinea                         98138.87\n",
      "Burkina Faso                  101855.07\n",
      "Zambia                        103223.77\n",
      "Tunisia                       124167.20\n",
      "Benin                         124771.22\n",
      "Niger                         126707.58\n",
      "Madagascar                    131197.73\n",
      "Mali                          149928.33\n",
      "Mauritania                    156665.46\n",
      "Mozambique                    161407.98\n",
      "Malawi                        181098.71\n",
      "Uganda                        213950.38\n",
      "Côte d'Ivoire                 224599.01\n",
      "Angola                        229159.57\n",
      "Cameroon                      232030.43\n",
      "Sudan                         239931.92\n",
      "Kenya                         264660.66\n",
      "United Republic of Tanzania   322616.85\n",
      "Algeria                       325644.27\n",
      "Ghana                         337599.06\n",
      "Morocco                       388495.36\n",
      "Ethiopia                      448683.76\n",
      "South Africa                  517590.54\n",
      "Egypt                         866379.92\n",
      "Nigeria                      1483268.23\n"
     ]
    }
   ],
   "source": [
    "print(df[['Y2017', 'Area']].groupby('Area').sum().sort_values(by = 'Y2017'))"
   ]
  },
  {
   "cell_type": "code",
   "execution_count": 71,
   "id": "ec6abe4a",
   "metadata": {},
   "outputs": [
    {
     "name": "stdout",
     "output_type": "stream",
     "text": [
      "49\n"
     ]
    }
   ],
   "source": [
    "print(df['Area'].nunique())"
   ]
  },
  {
   "cell_type": "code",
   "execution_count": 76,
   "id": "feeca02c",
   "metadata": {},
   "outputs": [
    {
     "name": "stdout",
     "output_type": "stream",
     "text": [
      "Y2017    19102.77\n",
      "Name: Guinea-Bissau, dtype: float64\n"
     ]
    }
   ],
   "source": [
    "print(df[['Y2017', 'Area']].groupby('Area').sum().sort_values(by = 'Y2017').iloc[6])"
   ]
  },
  {
   "cell_type": "code",
   "execution_count": 124,
   "id": "dfe0908e",
   "metadata": {},
   "outputs": [
    {
     "name": "stdout",
     "output_type": "stream",
     "text": [
      "Y2015    111\n",
      "Name: Madagascar, dtype: int64\n"
     ]
    }
   ],
   "source": [
    "print(df[['Element', 'Area', 'Y2015']].groupby(['Element', 'Area']).count().loc['Protein supply quantity (g/capita/day)'].loc['Madagascar'])"
   ]
  },
  {
   "cell_type": "code",
   "execution_count": 119,
   "id": "7ef0b449",
   "metadata": {},
   "outputs": [
    {
     "name": "stdout",
     "output_type": "stream",
     "text": [
      "Y2017    1998\n",
      "Name: Processing, dtype: int64\n"
     ]
    }
   ],
   "source": [
    "print(df[['Element', 'Y2017']].groupby('Element').count().loc['Processing'])"
   ]
  },
  {
   "cell_type": "code",
   "execution_count": 123,
   "id": "d89cc75a",
   "metadata": {},
   "outputs": [
    {
     "name": "stdout",
     "output_type": "stream",
     "text": [
      "140.9177648602722\n",
      "1671.8623590572788\n"
     ]
    }
   ],
   "source": [
    "print(df['Y2017'].mean())\n",
    "print(df['Y2017'].std())"
   ]
  },
  {
   "cell_type": "code",
   "execution_count": null,
   "id": "a1819e03",
   "metadata": {},
   "outputs": [],
   "source": []
  }
 ],
 "metadata": {
  "kernelspec": {
   "display_name": "Python 3 (ipykernel)",
   "language": "python",
   "name": "python3"
  },
  "language_info": {
   "codemirror_mode": {
    "name": "ipython",
    "version": 3
   },
   "file_extension": ".py",
   "mimetype": "text/x-python",
   "name": "python",
   "nbconvert_exporter": "python",
   "pygments_lexer": "ipython3",
   "version": "3.11.3"
  }
 },
 "nbformat": 4,
 "nbformat_minor": 5
}
